{
 "metadata": {
  "language_info": {
   "codemirror_mode": {
    "name": "ipython",
    "version": 3
   },
   "file_extension": ".py",
   "mimetype": "text/x-python",
   "name": "python",
   "nbconvert_exporter": "python",
   "pygments_lexer": "ipython3",
   "version": "3.7.9-final"
  },
  "orig_nbformat": 2,
  "kernelspec": {
   "name": "python3",
   "display_name": "Python 3.7.9 64-bit",
   "metadata": {
    "interpreter": {
     "hash": "ff8612c92dd38ad6ac36f41445c32eafe6db4351c06d677ed5f1ad3d38827b4b"
    }
   }
  }
 },
 "nbformat": 4,
 "nbformat_minor": 2,
 "cells": [
  {
   "cell_type": "code",
   "execution_count": 13,
   "metadata": {},
   "outputs": [],
   "source": [
    "import pandas as pd\n",
    "import os\n",
    "from nltk import sent_tokenize, word_tokenize\n",
    "from nltk.cluster.util import cosine_distance\n",
    "import re\n",
    "import re\n",
    "import numpy as np\n",
    "from operator import itemgetter\n",
    "from sklearn.metrics.pairwise import cosine_similarity\n",
    "    \n",
    "from sklearn.feature_extraction.text import TfidfVectorizer\n",
    "from sklearn.metrics.pairwise import cosine_similarity\n",
    "import nltk\n",
    "from nltk.corpus import stopwords\n",
    "from nltk.stem import WordNetLemmatizer \n",
    "from nltk.tokenize import word_tokenize\n",
    "import string\n",
    "import spacy\n",
    "from nltk.corpus import wordnet\n",
    "from rouge_score import rouge_scorer\n",
    "import pickle\n",
    "import nltk\n",
    "nltk.download('averaged_perceptron_tagger')"
   ]
  },
  {
   "cell_type": "code",
   "execution_count": 14,
   "metadata": {},
   "outputs": [],
   "source": [
    "df__ = pd.read_csv('df_summary_12000__final2_nx.csv', encoding = 'utf-8', escapechar='\\\\', index_col=0)"
   ]
  },
  {
   "cell_type": "code",
   "execution_count": 15,
   "metadata": {},
   "outputs": [
    {
     "output_type": "execute_result",
     "data": {
      "text/plain": [
       "                                                 article  \\\n",
       "0      Its official: US President Barack Obama wants ...   \n",
       "1      (CNN) -- Usain Bolt rounded off the world cham...   \n",
       "2      Kansas City, Missouri (CNN) -- The General Ser...   \n",
       "3      Los Angeles (CNN) -- A medical doctor in Vanco...   \n",
       "4      (CNN) -- Police arrested another teen Thursday...   \n",
       "...                                                  ...   \n",
       "11995  (CNN) -- A fugitive fired a shot at bounty hun...   \n",
       "11996  Atlanta (CNN) -- A woman without hope when the...   \n",
       "11997  Los Angeles (CNN) -- A third person was charge...   \n",
       "11998  (CNN) -- Formula One team Williams has announc...   \n",
       "11999  (CNN) -- Chris Brown must return to California...   \n",
       "\n",
       "                                              summary_gt  \\\n",
       "0      Syrian official: Obama climbed to the top of t...   \n",
       "1      Usain Bolt wins third gold of world championsh...   \n",
       "2      The employee in agencys Kansas City office is ...   \n",
       "3      NEW: A Canadian doctor says she was part of a ...   \n",
       "4      Another arrest made in gang rape outside Calif...   \n",
       "...                                                  ...   \n",
       "11995  Duane \"Dog\" Chapman says he, local bondsman we...   \n",
       "11996  \"We will be eternally grateful every minute of...   \n",
       "11997  Dorothy Grace Marie Maraglino, 36, pleads not ...   \n",
       "11998  Williams team profits rise from $2.07 million ...   \n",
       "11999  NEW: Chris Browns situation has \"gotten worse,...   \n",
       "\n",
       "                                         summary_gt_list  \\\n",
       "0      ['Syrian official: Obama climbed to the top of...   \n",
       "1      ['Usain Bolt wins third gold of world champion...   \n",
       "2      ['The employee in agencys Kansas City office i...   \n",
       "3      ['NEW: A Canadian doctor says she was part of ...   \n",
       "4      ['Another arrest made in gang rape outside Cal...   \n",
       "...                                                  ...   \n",
       "11995  ['Duane \"Dog\" Chapman says he, local bondsman ...   \n",
       "11996  ['\"We will be eternally grateful every minute ...   \n",
       "11997  ['Dorothy Grace Marie Maraglino, 36, pleads no...   \n",
       "11998  ['Williams team profits rise from $2.07 millio...   \n",
       "11999  ['NEW: Chris Browns situation has \"gotten wors...   \n",
       "\n",
       "                                                 summary  \n",
       "0      Its official : US President Barack Obama wants...  \n",
       "1      CNN Usain Bolt rounded off the world champions...  \n",
       "2      The Kansas City employee , who started his job...  \n",
       "3      Burkhart , a 24 year old German national , has...  \n",
       "4      CNN Police arrested another teen Thursday , th...  \n",
       "...                                                  ...  \n",
       "11995  Duane Dog '' Chapman , shown in Hawaii this mo...  \n",
       "11996  Nash said she didnt know why her estranged hus...  \n",
       "11997  Los Angeles CNN A third person was charged wit...  \n",
       "11998  CNN Formula One team Williams has announced an...  \n",
       "11999  He and bodyguard Christopher Hollosy were arre...  \n",
       "\n",
       "[12000 rows x 4 columns]"
      ],
      "text/html": "<div>\n<style scoped>\n    .dataframe tbody tr th:only-of-type {\n        vertical-align: middle;\n    }\n\n    .dataframe tbody tr th {\n        vertical-align: top;\n    }\n\n    .dataframe thead th {\n        text-align: right;\n    }\n</style>\n<table border=\"1\" class=\"dataframe\">\n  <thead>\n    <tr style=\"text-align: right;\">\n      <th></th>\n      <th>article</th>\n      <th>summary_gt</th>\n      <th>summary_gt_list</th>\n      <th>summary</th>\n    </tr>\n  </thead>\n  <tbody>\n    <tr>\n      <th>0</th>\n      <td>Its official: US President Barack Obama wants ...</td>\n      <td>Syrian official: Obama climbed to the top of t...</td>\n      <td>['Syrian official: Obama climbed to the top of...</td>\n      <td>Its official : US President Barack Obama wants...</td>\n    </tr>\n    <tr>\n      <th>1</th>\n      <td>(CNN) -- Usain Bolt rounded off the world cham...</td>\n      <td>Usain Bolt wins third gold of world championsh...</td>\n      <td>['Usain Bolt wins third gold of world champion...</td>\n      <td>CNN Usain Bolt rounded off the world champions...</td>\n    </tr>\n    <tr>\n      <th>2</th>\n      <td>Kansas City, Missouri (CNN) -- The General Ser...</td>\n      <td>The employee in agencys Kansas City office is ...</td>\n      <td>['The employee in agencys Kansas City office i...</td>\n      <td>The Kansas City employee , who started his job...</td>\n    </tr>\n    <tr>\n      <th>3</th>\n      <td>Los Angeles (CNN) -- A medical doctor in Vanco...</td>\n      <td>NEW: A Canadian doctor says she was part of a ...</td>\n      <td>['NEW: A Canadian doctor says she was part of ...</td>\n      <td>Burkhart , a 24 year old German national , has...</td>\n    </tr>\n    <tr>\n      <th>4</th>\n      <td>(CNN) -- Police arrested another teen Thursday...</td>\n      <td>Another arrest made in gang rape outside Calif...</td>\n      <td>['Another arrest made in gang rape outside Cal...</td>\n      <td>CNN Police arrested another teen Thursday , th...</td>\n    </tr>\n    <tr>\n      <th>...</th>\n      <td>...</td>\n      <td>...</td>\n      <td>...</td>\n      <td>...</td>\n    </tr>\n    <tr>\n      <th>11995</th>\n      <td>(CNN) -- A fugitive fired a shot at bounty hun...</td>\n      <td>Duane \"Dog\" Chapman says he, local bondsman we...</td>\n      <td>['Duane \"Dog\" Chapman says he, local bondsman ...</td>\n      <td>Duane Dog '' Chapman , shown in Hawaii this mo...</td>\n    </tr>\n    <tr>\n      <th>11996</th>\n      <td>Atlanta (CNN) -- A woman without hope when the...</td>\n      <td>\"We will be eternally grateful every minute of...</td>\n      <td>['\"We will be eternally grateful every minute ...</td>\n      <td>Nash said she didnt know why her estranged hus...</td>\n    </tr>\n    <tr>\n      <th>11997</th>\n      <td>Los Angeles (CNN) -- A third person was charge...</td>\n      <td>Dorothy Grace Marie Maraglino, 36, pleads not ...</td>\n      <td>['Dorothy Grace Marie Maraglino, 36, pleads no...</td>\n      <td>Los Angeles CNN A third person was charged wit...</td>\n    </tr>\n    <tr>\n      <th>11998</th>\n      <td>(CNN) -- Formula One team Williams has announc...</td>\n      <td>Williams team profits rise from $2.07 million ...</td>\n      <td>['Williams team profits rise from $2.07 millio...</td>\n      <td>CNN Formula One team Williams has announced an...</td>\n    </tr>\n    <tr>\n      <th>11999</th>\n      <td>(CNN) -- Chris Brown must return to California...</td>\n      <td>NEW: Chris Browns situation has \"gotten worse,...</td>\n      <td>['NEW: Chris Browns situation has \"gotten wors...</td>\n      <td>He and bodyguard Christopher Hollosy were arre...</td>\n    </tr>\n  </tbody>\n</table>\n<p>12000 rows × 4 columns</p>\n</div>"
     },
     "metadata": {},
     "execution_count": 15
    }
   ],
   "source": [
    "df__"
   ]
  },
  {
   "cell_type": "code",
   "execution_count": null,
   "metadata": {},
   "outputs": [],
   "source": [
    "stop = stopwords.words('english')\n",
    "stop = set(stop)\n",
    "stop.add('\"')\n",
    "stop.add(\"'\")\n",
    "stop = list(stop)\n",
    "lemmatizer = WordNetLemmatizer()\n",
    "def preprocess (sentence):\n",
    "    tokens = word_tokenize(sentence)\n",
    "    s1 = [i.lower() for i in tokens if not i.lower() in stop]\n",
    "    s1 = [i for i in s1 if i not in string.punctuation]\n",
    "    s1 = [lemmatizer.lemmatize(i) for i in s1]\n",
    "    s1 = ' '.join(map(str, s1))\n",
    "    s1 = s1.replace(\"'\",'')\n",
    "    return s1"
   ]
  },
  {
   "cell_type": "code",
   "execution_count": null,
   "metadata": {},
   "outputs": [],
   "source": [
    "list_pos_tag = ['JJ', 'JJR', 'JJS', 'NN', 'NNS', 'VB', 'VBD', 'VBG', 'VBN', 'VBP', 'VBZ']\n",
    "\n",
    "#add synonyms to words with POS tag listed before\n",
    "def add_synonims (sentence1):\n",
    "    \n",
    "    sent_tok = word_tokenize(sentence1)\n",
    "    s1_pos = nltk.pos_tag(sent_tok)\n",
    "\n",
    "    for w in range(len(sent_tok)):  \n",
    "        w_pos = s1_pos[w][1]\n",
    "        if w_pos in list_pos_tag:\n",
    "            for syn in wordnet.synsets(sent_tok[w]):\n",
    "                for l in syn.lemmas():\n",
    "                    if l.name() not in sent_tok:\n",
    "                        sent_tok.append(l.name())\n",
    "\n",
    "    s1_to_string = ' '.join(sent_tok)\n",
    "    return s1_to_string"
   ]
  },
  {
   "cell_type": "code",
   "execution_count": null,
   "metadata": {},
   "outputs": [],
   "source": [
    "scorer = rouge_scorer.RougeScorer(['rouge1'], use_stemmer=True)\n",
    "\n",
    "#add rouge-1 to dataframe\n",
    "def add_rouge (dataframe):\n",
    "\n",
    "    score_list = []\n",
    "    for i in range(len(dataframe)):\n",
    "        print(i)\n",
    "        summ = dataframe.iloc[i,3]\n",
    "        summ = add_synonims(summ)\n",
    "        summ = preprocess(summ)\n",
    "\n",
    "        ref = dataframe.iloc[i,1]\n",
    "        ref = preprocess(ref)\n",
    "\n",
    "        scores = scorer.score(summ, ref)\n",
    "        rouge_score = scores['rouge1'].precision\n",
    "        score_list.append(rouge_score)\n",
    "\n",
    "    dataframe['rouge'] = score_list\n",
    "    return dataframe"
   ]
  },
  {
   "source": [
    "d= add_rouge(df__)\n",
    "with open('df_summ_rouge_12000_2_nx.pickle', 'wb') as handle:\n",
    "    pickle.dump(d,handle)"
   ],
   "cell_type": "code",
   "metadata": {},
   "execution_count": null,
   "outputs": []
  },
  {
   "cell_type": "code",
   "execution_count": 1,
   "metadata": {},
   "outputs": [],
   "source": [
    "#with open('df_summ_rouge_12000_2_nx.pickle', 'rb') as handle:\n",
    "#    df__ = pickle.load(handle)"
   ]
  },
  {
   "cell_type": "code",
   "execution_count": 2,
   "metadata": {},
   "outputs": [
    {
     "output_type": "execute_result",
     "data": {
      "text/plain": [
       "                                             article  \\\n",
       "0  Its official: US President Barack Obama wants ...   \n",
       "1  (CNN) -- Usain Bolt rounded off the world cham...   \n",
       "2  Kansas City, Missouri (CNN) -- The General Ser...   \n",
       "3  Los Angeles (CNN) -- A medical doctor in Vanco...   \n",
       "4  (CNN) -- Police arrested another teen Thursday...   \n",
       "\n",
       "                                          summary_gt  \\\n",
       "0  Syrian official: Obama climbed to the top of t...   \n",
       "1  Usain Bolt wins third gold of world championsh...   \n",
       "2  The employee in agencys Kansas City office is ...   \n",
       "3  NEW: A Canadian doctor says she was part of a ...   \n",
       "4  Another arrest made in gang rape outside Calif...   \n",
       "\n",
       "                                     summary_gt_list  \\\n",
       "0  ['Syrian official: Obama climbed to the top of...   \n",
       "1  ['Usain Bolt wins third gold of world champion...   \n",
       "2  ['The employee in agencys Kansas City office i...   \n",
       "3  ['NEW: A Canadian doctor says she was part of ...   \n",
       "4  ['Another arrest made in gang rape outside Cal...   \n",
       "\n",
       "                                             summary     rouge  \n",
       "0  Its official : US President Barack Obama wants...  0.451613  \n",
       "1  CNN Usain Bolt rounded off the world champions...  0.904762  \n",
       "2  The Kansas City employee , who started his job...  0.400000  \n",
       "3  Burkhart , a 24 year old German national , has...  0.432432  \n",
       "4  CNN Police arrested another teen Thursday , th...  0.423077  "
      ],
      "text/html": "<div>\n<style scoped>\n    .dataframe tbody tr th:only-of-type {\n        vertical-align: middle;\n    }\n\n    .dataframe tbody tr th {\n        vertical-align: top;\n    }\n\n    .dataframe thead th {\n        text-align: right;\n    }\n</style>\n<table border=\"1\" class=\"dataframe\">\n  <thead>\n    <tr style=\"text-align: right;\">\n      <th></th>\n      <th>article</th>\n      <th>summary_gt</th>\n      <th>summary_gt_list</th>\n      <th>summary</th>\n      <th>rouge</th>\n    </tr>\n  </thead>\n  <tbody>\n    <tr>\n      <th>0</th>\n      <td>Its official: US President Barack Obama wants ...</td>\n      <td>Syrian official: Obama climbed to the top of t...</td>\n      <td>['Syrian official: Obama climbed to the top of...</td>\n      <td>Its official : US President Barack Obama wants...</td>\n      <td>0.451613</td>\n    </tr>\n    <tr>\n      <th>1</th>\n      <td>(CNN) -- Usain Bolt rounded off the world cham...</td>\n      <td>Usain Bolt wins third gold of world championsh...</td>\n      <td>['Usain Bolt wins third gold of world champion...</td>\n      <td>CNN Usain Bolt rounded off the world champions...</td>\n      <td>0.904762</td>\n    </tr>\n    <tr>\n      <th>2</th>\n      <td>Kansas City, Missouri (CNN) -- The General Ser...</td>\n      <td>The employee in agencys Kansas City office is ...</td>\n      <td>['The employee in agencys Kansas City office i...</td>\n      <td>The Kansas City employee , who started his job...</td>\n      <td>0.400000</td>\n    </tr>\n    <tr>\n      <th>3</th>\n      <td>Los Angeles (CNN) -- A medical doctor in Vanco...</td>\n      <td>NEW: A Canadian doctor says she was part of a ...</td>\n      <td>['NEW: A Canadian doctor says she was part of ...</td>\n      <td>Burkhart , a 24 year old German national , has...</td>\n      <td>0.432432</td>\n    </tr>\n    <tr>\n      <th>4</th>\n      <td>(CNN) -- Police arrested another teen Thursday...</td>\n      <td>Another arrest made in gang rape outside Calif...</td>\n      <td>['Another arrest made in gang rape outside Cal...</td>\n      <td>CNN Police arrested another teen Thursday , th...</td>\n      <td>0.423077</td>\n    </tr>\n  </tbody>\n</table>\n</div>"
     },
     "metadata": {},
     "execution_count": 2
    }
   ],
   "source": [
    "df__.head()"
   ]
  },
  {
   "cell_type": "code",
   "execution_count": 5,
   "metadata": {},
   "outputs": [
    {
     "output_type": "execute_result",
     "data": {
      "text/plain": [
       "                                                 article  \\\n",
       "11200                                                      \n",
       "2713                                                       \n",
       "9613                                                       \n",
       "7813                                                       \n",
       "8399                                                       \n",
       "8652                                                       \n",
       "11577                                                      \n",
       "6378                                                       \n",
       "9421                                                       \n",
       "9227                                                       \n",
       "4993                                                       \n",
       "3448                                                       \n",
       "7943                                                       \n",
       "92                                                         \n",
       "7144                                                       \n",
       "10737  (CNN) -- Alexander the Great is said to have s...   \n",
       "297    (CNN) -- So many visitors to Turkey see little...   \n",
       "4241   (CNN)Dramatic dashboard video shows the moment...   \n",
       "7964   Keenan Steiner makes his way along Charlottes ...   \n",
       "8      Gaza City (CNN) -- An Italian humanitarian act...   \n",
       "\n",
       "                                              summary_gt  \\\n",
       "11200  Nina Persson is known for her touching vocals ...   \n",
       "2713   From what Asian nation did McCain adopt a daug...   \n",
       "9613   On Memorial Day, we remember those who lost th...   \n",
       "7813   Riyo Mori was crowned Miss Universe in Mexico ...   \n",
       "8399   CNN.com will feature iReporter photos in a wee...   \n",
       "8652   CNN.com will feature iReporter photos in a wee...   \n",
       "11577  In August 1969, members of Charles Mansons \"fa...   \n",
       "6378   Shriver is sister of President Kennedy, Bobby ...   \n",
       "9421   Whether its acting or directing, the Coppola c...   \n",
       "9227   Quincy Jones has been nominated for 76 Grammy ...   \n",
       "4993   Iggy says Miami is fundamentally spiritual and...   \n",
       "3448   Michael Jacksons memorial gave the world a rar...   \n",
       "7943   Sen. Barack Obama watches election results wit...   \n",
       "92     CNN.com will feature iReporter photos in a wee...   \n",
       "7144   Photographer Dennis DeSilva has photographed T...   \n",
       "10737  \"Bioshock\" splices Captain Nemos \"Nautilus\" wi...   \n",
       "297    Turkey is huge yet most visitors stick to a ti...   \n",
       "4241   Plane carrying 58 people hits bridge, crashes ...   \n",
       "7964   Nonpartisan nonprofit tracks events where poli...   \n",
       "8      NEW: Autopsy indicates he had been dead for ho...   \n",
       "\n",
       "                                         summary_gt_list  \\\n",
       "11200  ['Nina Persson is known for her touching vocal...   \n",
       "2713   ['From what Asian nation did McCain adopt a da...   \n",
       "9613   ['On Memorial Day, we remember those who lost ...   \n",
       "7813   ['Riyo Mori was crowned Miss Universe in Mexic...   \n",
       "8399   ['CNN.com will feature iReporter photos in a w...   \n",
       "8652   ['CNN.com will feature iReporter photos in a w...   \n",
       "11577  ['In August 1969, members of Charles Mansons \"...   \n",
       "6378   ['Shriver is sister of President Kennedy, Bobb...   \n",
       "9421   ['Whether its acting or directing, the Coppola...   \n",
       "9227   ['Quincy Jones has been nominated for 76 Gramm...   \n",
       "4993   ['Iggy says Miami is fundamentally spiritual a...   \n",
       "3448   ['Michael Jacksons memorial gave the world a r...   \n",
       "7943   ['Sen. Barack Obama watches election results w...   \n",
       "92     ['CNN.com will feature iReporter photos in a w...   \n",
       "7144   ['Photographer Dennis DeSilva has photographed...   \n",
       "10737  ['\"Bioshock\" splices Captain Nemos \"Nautilus\" ...   \n",
       "297    ['Turkey is huge yet most visitors stick to a ...   \n",
       "4241   ['Plane carrying 58 people hits bridge, crashe...   \n",
       "7964   ['Nonpartisan nonprofit tracks events where po...   \n",
       "8      ['NEW: Autopsy indicates he had been dead for ...   \n",
       "\n",
       "                                                 summary     rouge  \n",
       "11200                                                ---  0.000000  \n",
       "2713                                                 ---  0.000000  \n",
       "9613                                                 ---  0.000000  \n",
       "7813                                                 ---  0.000000  \n",
       "8399                                                 ---  0.000000  \n",
       "8652                                                 ---  0.000000  \n",
       "11577                                                ---  0.000000  \n",
       "6378                                                 ---  0.000000  \n",
       "9421                                                 ---  0.000000  \n",
       "9227                                                 ---  0.000000  \n",
       "4993                                                 ---  0.000000  \n",
       "3448                                                 ---  0.000000  \n",
       "7943                                                 ---  0.000000  \n",
       "92                                                   ---  0.000000  \n",
       "7144                                                 ---  0.000000  \n",
       "10737  These days virtual worlds are almost as impres...  0.033333  \n",
       "297    You can fly to Erzurum from Istanbul or Ankara...  0.035714  \n",
       "4241   Taiwans official news agency CNA reported that...  0.047619  \n",
       "7964   Tonight Steiner decides to stop by Planned Par...  0.047619  \n",
       "8      Arrigoni had been active in the Palestinian ca...  0.047619  "
      ],
      "text/html": "<div>\n<style scoped>\n    .dataframe tbody tr th:only-of-type {\n        vertical-align: middle;\n    }\n\n    .dataframe tbody tr th {\n        vertical-align: top;\n    }\n\n    .dataframe thead th {\n        text-align: right;\n    }\n</style>\n<table border=\"1\" class=\"dataframe\">\n  <thead>\n    <tr style=\"text-align: right;\">\n      <th></th>\n      <th>article</th>\n      <th>summary_gt</th>\n      <th>summary_gt_list</th>\n      <th>summary</th>\n      <th>rouge</th>\n    </tr>\n  </thead>\n  <tbody>\n    <tr>\n      <th>11200</th>\n      <td></td>\n      <td>Nina Persson is known for her touching vocals ...</td>\n      <td>['Nina Persson is known for her touching vocal...</td>\n      <td>---</td>\n      <td>0.000000</td>\n    </tr>\n    <tr>\n      <th>2713</th>\n      <td></td>\n      <td>From what Asian nation did McCain adopt a daug...</td>\n      <td>['From what Asian nation did McCain adopt a da...</td>\n      <td>---</td>\n      <td>0.000000</td>\n    </tr>\n    <tr>\n      <th>9613</th>\n      <td></td>\n      <td>On Memorial Day, we remember those who lost th...</td>\n      <td>['On Memorial Day, we remember those who lost ...</td>\n      <td>---</td>\n      <td>0.000000</td>\n    </tr>\n    <tr>\n      <th>7813</th>\n      <td></td>\n      <td>Riyo Mori was crowned Miss Universe in Mexico ...</td>\n      <td>['Riyo Mori was crowned Miss Universe in Mexic...</td>\n      <td>---</td>\n      <td>0.000000</td>\n    </tr>\n    <tr>\n      <th>8399</th>\n      <td></td>\n      <td>CNN.com will feature iReporter photos in a wee...</td>\n      <td>['CNN.com will feature iReporter photos in a w...</td>\n      <td>---</td>\n      <td>0.000000</td>\n    </tr>\n    <tr>\n      <th>8652</th>\n      <td></td>\n      <td>CNN.com will feature iReporter photos in a wee...</td>\n      <td>['CNN.com will feature iReporter photos in a w...</td>\n      <td>---</td>\n      <td>0.000000</td>\n    </tr>\n    <tr>\n      <th>11577</th>\n      <td></td>\n      <td>In August 1969, members of Charles Mansons \"fa...</td>\n      <td>['In August 1969, members of Charles Mansons \"...</td>\n      <td>---</td>\n      <td>0.000000</td>\n    </tr>\n    <tr>\n      <th>6378</th>\n      <td></td>\n      <td>Shriver is sister of President Kennedy, Bobby ...</td>\n      <td>['Shriver is sister of President Kennedy, Bobb...</td>\n      <td>---</td>\n      <td>0.000000</td>\n    </tr>\n    <tr>\n      <th>9421</th>\n      <td></td>\n      <td>Whether its acting or directing, the Coppola c...</td>\n      <td>['Whether its acting or directing, the Coppola...</td>\n      <td>---</td>\n      <td>0.000000</td>\n    </tr>\n    <tr>\n      <th>9227</th>\n      <td></td>\n      <td>Quincy Jones has been nominated for 76 Grammy ...</td>\n      <td>['Quincy Jones has been nominated for 76 Gramm...</td>\n      <td>---</td>\n      <td>0.000000</td>\n    </tr>\n    <tr>\n      <th>4993</th>\n      <td></td>\n      <td>Iggy says Miami is fundamentally spiritual and...</td>\n      <td>['Iggy says Miami is fundamentally spiritual a...</td>\n      <td>---</td>\n      <td>0.000000</td>\n    </tr>\n    <tr>\n      <th>3448</th>\n      <td></td>\n      <td>Michael Jacksons memorial gave the world a rar...</td>\n      <td>['Michael Jacksons memorial gave the world a r...</td>\n      <td>---</td>\n      <td>0.000000</td>\n    </tr>\n    <tr>\n      <th>7943</th>\n      <td></td>\n      <td>Sen. Barack Obama watches election results wit...</td>\n      <td>['Sen. Barack Obama watches election results w...</td>\n      <td>---</td>\n      <td>0.000000</td>\n    </tr>\n    <tr>\n      <th>92</th>\n      <td></td>\n      <td>CNN.com will feature iReporter photos in a wee...</td>\n      <td>['CNN.com will feature iReporter photos in a w...</td>\n      <td>---</td>\n      <td>0.000000</td>\n    </tr>\n    <tr>\n      <th>7144</th>\n      <td></td>\n      <td>Photographer Dennis DeSilva has photographed T...</td>\n      <td>['Photographer Dennis DeSilva has photographed...</td>\n      <td>---</td>\n      <td>0.000000</td>\n    </tr>\n    <tr>\n      <th>10737</th>\n      <td>(CNN) -- Alexander the Great is said to have s...</td>\n      <td>\"Bioshock\" splices Captain Nemos \"Nautilus\" wi...</td>\n      <td>['\"Bioshock\" splices Captain Nemos \"Nautilus\" ...</td>\n      <td>These days virtual worlds are almost as impres...</td>\n      <td>0.033333</td>\n    </tr>\n    <tr>\n      <th>297</th>\n      <td>(CNN) -- So many visitors to Turkey see little...</td>\n      <td>Turkey is huge yet most visitors stick to a ti...</td>\n      <td>['Turkey is huge yet most visitors stick to a ...</td>\n      <td>You can fly to Erzurum from Istanbul or Ankara...</td>\n      <td>0.035714</td>\n    </tr>\n    <tr>\n      <th>4241</th>\n      <td>(CNN)Dramatic dashboard video shows the moment...</td>\n      <td>Plane carrying 58 people hits bridge, crashes ...</td>\n      <td>['Plane carrying 58 people hits bridge, crashe...</td>\n      <td>Taiwans official news agency CNA reported that...</td>\n      <td>0.047619</td>\n    </tr>\n    <tr>\n      <th>7964</th>\n      <td>Keenan Steiner makes his way along Charlottes ...</td>\n      <td>Nonpartisan nonprofit tracks events where poli...</td>\n      <td>['Nonpartisan nonprofit tracks events where po...</td>\n      <td>Tonight Steiner decides to stop by Planned Par...</td>\n      <td>0.047619</td>\n    </tr>\n    <tr>\n      <th>8</th>\n      <td>Gaza City (CNN) -- An Italian humanitarian act...</td>\n      <td>NEW: Autopsy indicates he had been dead for ho...</td>\n      <td>['NEW: Autopsy indicates he had been dead for ...</td>\n      <td>Arrigoni had been active in the Palestinian ca...</td>\n      <td>0.047619</td>\n    </tr>\n  </tbody>\n</table>\n</div>"
     },
     "metadata": {},
     "execution_count": 5
    }
   ],
   "source": [
    "df__.sort_values(by='rouge').head(20)"
   ]
  },
  {
   "cell_type": "code",
   "execution_count": 8,
   "metadata": {},
   "outputs": [
    {
     "output_type": "execute_result",
     "data": {
      "text/plain": [
       "True"
      ]
     },
     "metadata": {},
     "execution_count": 8
    }
   ],
   "source": [
    "def is_blank(string):\n",
    "    \"\"\"\n",
    "    Returns `True` if string contains only white-space characters\n",
    "    or is empty. Otherwise `False` is returned.\n",
    "    \"\"\"\n",
    "    return not string or string.isspace()\n",
    "is_blank('  ')"
   ]
  },
  {
   "cell_type": "code",
   "execution_count": 9,
   "metadata": {},
   "outputs": [
    {
     "output_type": "execute_result",
     "data": {
      "text/plain": [
       "11985"
      ]
     },
     "metadata": {},
     "execution_count": 9
    }
   ],
   "source": [
    "#remove empty articles\n",
    "blank = df__['article'].apply(lambda x: is_blank(x))\n",
    "df__2 = df__.loc[-blank,]\n",
    "len(df__2)"
   ]
  },
  {
   "cell_type": "code",
   "execution_count": 10,
   "metadata": {},
   "outputs": [
    {
     "output_type": "execute_result",
     "data": {
      "text/plain": [
       "<AxesSubplot:>"
      ]
     },
     "metadata": {},
     "execution_count": 10
    },
    {
     "output_type": "display_data",
     "data": {
      "text/plain": "<Figure size 432x288 with 1 Axes>",
      "image/svg+xml": "<?xml version=\"1.0\" encoding=\"utf-8\" standalone=\"no\"?>\r\n<!DOCTYPE svg PUBLIC \"-//W3C//DTD SVG 1.1//EN\"\r\n  \"http://www.w3.org/Graphics/SVG/1.1/DTD/svg11.dtd\">\r\n<!-- Created with matplotlib (https://matplotlib.org/) -->\r\n<svg height=\"248.518125pt\" version=\"1.1\" viewBox=\"0 0 381.65 248.518125\" width=\"381.65pt\" xmlns=\"http://www.w3.org/2000/svg\" xmlns:xlink=\"http://www.w3.org/1999/xlink\">\r\n <metadata>\r\n  <rdf:RDF xmlns:cc=\"http://creativecommons.org/ns#\" xmlns:dc=\"http://purl.org/dc/elements/1.1/\" xmlns:rdf=\"http://www.w3.org/1999/02/22-rdf-syntax-ns#\">\r\n   <cc:Work>\r\n    <dc:type rdf:resource=\"http://purl.org/dc/dcmitype/StillImage\"/>\r\n    <dc:date>2021-02-10T15:54:32.260336</dc:date>\r\n    <dc:format>image/svg+xml</dc:format>\r\n    <dc:creator>\r\n     <cc:Agent>\r\n      <dc:title>Matplotlib v3.3.2, https://matplotlib.org/</dc:title>\r\n     </cc:Agent>\r\n    </dc:creator>\r\n   </cc:Work>\r\n  </rdf:RDF>\r\n </metadata>\r\n <defs>\r\n  <style type=\"text/css\">*{stroke-linecap:butt;stroke-linejoin:round;}</style>\r\n </defs>\r\n <g id=\"figure_1\">\r\n  <g id=\"patch_1\">\r\n   <path d=\"M -0 248.518125 \r\nL 381.65 248.518125 \r\nL 381.65 0 \r\nL -0 0 \r\nz\r\n\" style=\"fill:none;\"/>\r\n  </g>\r\n  <g id=\"axes_1\">\r\n   <g id=\"patch_2\">\r\n    <path d=\"M 39.65 224.64 \r\nL 374.45 224.64 \r\nL 374.45 7.2 \r\nL 39.65 7.2 \r\nz\r\n\" style=\"fill:#ffffff;\"/>\r\n   </g>\r\n   <g id=\"patch_3\">\r\n    <path clip-path=\"url(#p3d042f77e6)\" d=\"M 54.868182 224.64 \r\nL 85.304545 224.64 \r\nL 85.304545 219.549625 \r\nL 54.868182 219.549625 \r\nz\r\n\" style=\"fill:#1f77b4;\"/>\r\n   </g>\r\n   <g id=\"patch_4\">\r\n    <path clip-path=\"url(#p3d042f77e6)\" d=\"M 85.304545 224.64 \r\nL 115.740909 224.64 \r\nL 115.740909 187.310583 \r\nL 85.304545 187.310583 \r\nz\r\n\" style=\"fill:#1f77b4;\"/>\r\n   </g>\r\n   <g id=\"patch_5\">\r\n    <path clip-path=\"url(#p3d042f77e6)\" d=\"M 115.740909 224.64 \r\nL 146.177273 224.64 \r\nL 146.177273 107.252865 \r\nL 115.740909 107.252865 \r\nz\r\n\" style=\"fill:#1f77b4;\"/>\r\n   </g>\r\n   <g id=\"patch_6\">\r\n    <path clip-path=\"url(#p3d042f77e6)\" d=\"M 146.177273 224.64 \r\nL 176.613636 224.64 \r\nL 176.613636 31.514254 \r\nL 146.177273 31.514254 \r\nz\r\n\" style=\"fill:#1f77b4;\"/>\r\n   </g>\r\n   <g id=\"patch_7\">\r\n    <path clip-path=\"url(#p3d042f77e6)\" d=\"M 176.613636 224.64 \r\nL 207.05 224.64 \r\nL 207.05 17.554286 \r\nL 176.613636 17.554286 \r\nz\r\n\" style=\"fill:#1f77b4;\"/>\r\n   </g>\r\n   <g id=\"patch_8\">\r\n    <path clip-path=\"url(#p3d042f77e6)\" d=\"M 207.05 224.64 \r\nL 237.486364 224.64 \r\nL 237.486364 51.027358 \r\nL 207.05 51.027358 \r\nz\r\n\" style=\"fill:#1f77b4;\"/>\r\n   </g>\r\n   <g id=\"patch_9\">\r\n    <path clip-path=\"url(#p3d042f77e6)\" d=\"M 237.486364 224.64 \r\nL 267.922727 224.64 \r\nL 267.922727 113.500144 \r\nL 237.486364 113.500144 \r\nz\r\n\" style=\"fill:#1f77b4;\"/>\r\n   </g>\r\n   <g id=\"patch_10\">\r\n    <path clip-path=\"url(#p3d042f77e6)\" d=\"M 267.922727 224.64 \r\nL 298.359091 224.64 \r\nL 298.359091 174.19901 \r\nL 267.922727 174.19901 \r\nz\r\n\" style=\"fill:#1f77b4;\"/>\r\n   </g>\r\n   <g id=\"patch_11\">\r\n    <path clip-path=\"url(#p3d042f77e6)\" d=\"M 298.359091 224.64 \r\nL 328.795455 224.64 \r\nL 328.795455 203.584358 \r\nL 298.359091 203.584358 \r\nz\r\n\" style=\"fill:#1f77b4;\"/>\r\n   </g>\r\n   <g id=\"patch_12\">\r\n    <path clip-path=\"url(#p3d042f77e6)\" d=\"M 328.795455 224.64 \r\nL 359.231818 224.64 \r\nL 359.231818 216.541676 \r\nL 328.795455 216.541676 \r\nz\r\n\" style=\"fill:#1f77b4;\"/>\r\n   </g>\r\n   <g id=\"matplotlib.axis_1\">\r\n    <g id=\"xtick_1\">\r\n     <g id=\"line2d_1\">\r\n      <defs>\r\n       <path d=\"M 0 0 \r\nL 0 3.5 \r\n\" id=\"m403d2a5677\" style=\"stroke:#000000;stroke-width:0.8;\"/>\r\n      </defs>\r\n      <g>\r\n       <use style=\"stroke:#000000;stroke-width:0.8;\" x=\"44.372884\" xlink:href=\"#m403d2a5677\" y=\"224.64\"/>\r\n      </g>\r\n     </g>\r\n     <g id=\"text_1\">\r\n      <!-- 0.0 -->\r\n      <g transform=\"translate(36.421322 239.238437)scale(0.1 -0.1)\">\r\n       <defs>\r\n        <path d=\"M 31.78125 66.40625 \r\nQ 24.171875 66.40625 20.328125 58.90625 \r\nQ 16.5 51.421875 16.5 36.375 \r\nQ 16.5 21.390625 20.328125 13.890625 \r\nQ 24.171875 6.390625 31.78125 6.390625 \r\nQ 39.453125 6.390625 43.28125 13.890625 \r\nQ 47.125 21.390625 47.125 36.375 \r\nQ 47.125 51.421875 43.28125 58.90625 \r\nQ 39.453125 66.40625 31.78125 66.40625 \r\nz\r\nM 31.78125 74.21875 \r\nQ 44.046875 74.21875 50.515625 64.515625 \r\nQ 56.984375 54.828125 56.984375 36.375 \r\nQ 56.984375 17.96875 50.515625 8.265625 \r\nQ 44.046875 -1.421875 31.78125 -1.421875 \r\nQ 19.53125 -1.421875 13.0625 8.265625 \r\nQ 6.59375 17.96875 6.59375 36.375 \r\nQ 6.59375 54.828125 13.0625 64.515625 \r\nQ 19.53125 74.21875 31.78125 74.21875 \r\nz\r\n\" id=\"DejaVuSans-48\"/>\r\n        <path d=\"M 10.6875 12.40625 \r\nL 21 12.40625 \r\nL 21 0 \r\nL 10.6875 0 \r\nz\r\n\" id=\"DejaVuSans-46\"/>\r\n       </defs>\r\n       <use xlink:href=\"#DejaVuSans-48\"/>\r\n       <use x=\"63.623047\" xlink:href=\"#DejaVuSans-46\"/>\r\n       <use x=\"95.410156\" xlink:href=\"#DejaVuSans-48\"/>\r\n      </g>\r\n     </g>\r\n    </g>\r\n    <g id=\"xtick_2\">\r\n     <g id=\"line2d_2\">\r\n      <g>\r\n       <use style=\"stroke:#000000;stroke-width:0.8;\" x=\"107.344671\" xlink:href=\"#m403d2a5677\" y=\"224.64\"/>\r\n      </g>\r\n     </g>\r\n     <g id=\"text_2\">\r\n      <!-- 0.2 -->\r\n      <g transform=\"translate(99.393108 239.238437)scale(0.1 -0.1)\">\r\n       <defs>\r\n        <path d=\"M 19.1875 8.296875 \r\nL 53.609375 8.296875 \r\nL 53.609375 0 \r\nL 7.328125 0 \r\nL 7.328125 8.296875 \r\nQ 12.9375 14.109375 22.625 23.890625 \r\nQ 32.328125 33.6875 34.8125 36.53125 \r\nQ 39.546875 41.84375 41.421875 45.53125 \r\nQ 43.3125 49.21875 43.3125 52.78125 \r\nQ 43.3125 58.59375 39.234375 62.25 \r\nQ 35.15625 65.921875 28.609375 65.921875 \r\nQ 23.96875 65.921875 18.8125 64.3125 \r\nQ 13.671875 62.703125 7.8125 59.421875 \r\nL 7.8125 69.390625 \r\nQ 13.765625 71.78125 18.9375 73 \r\nQ 24.125 74.21875 28.421875 74.21875 \r\nQ 39.75 74.21875 46.484375 68.546875 \r\nQ 53.21875 62.890625 53.21875 53.421875 \r\nQ 53.21875 48.921875 51.53125 44.890625 \r\nQ 49.859375 40.875 45.40625 35.40625 \r\nQ 44.1875 33.984375 37.640625 27.21875 \r\nQ 31.109375 20.453125 19.1875 8.296875 \r\nz\r\n\" id=\"DejaVuSans-50\"/>\r\n       </defs>\r\n       <use xlink:href=\"#DejaVuSans-48\"/>\r\n       <use x=\"63.623047\" xlink:href=\"#DejaVuSans-46\"/>\r\n       <use x=\"95.410156\" xlink:href=\"#DejaVuSans-50\"/>\r\n      </g>\r\n     </g>\r\n    </g>\r\n    <g id=\"xtick_3\">\r\n     <g id=\"line2d_3\">\r\n      <g>\r\n       <use style=\"stroke:#000000;stroke-width:0.8;\" x=\"170.316458\" xlink:href=\"#m403d2a5677\" y=\"224.64\"/>\r\n      </g>\r\n     </g>\r\n     <g id=\"text_3\">\r\n      <!-- 0.4 -->\r\n      <g transform=\"translate(162.364895 239.238437)scale(0.1 -0.1)\">\r\n       <defs>\r\n        <path d=\"M 37.796875 64.3125 \r\nL 12.890625 25.390625 \r\nL 37.796875 25.390625 \r\nz\r\nM 35.203125 72.90625 \r\nL 47.609375 72.90625 \r\nL 47.609375 25.390625 \r\nL 58.015625 25.390625 \r\nL 58.015625 17.1875 \r\nL 47.609375 17.1875 \r\nL 47.609375 0 \r\nL 37.796875 0 \r\nL 37.796875 17.1875 \r\nL 4.890625 17.1875 \r\nL 4.890625 26.703125 \r\nz\r\n\" id=\"DejaVuSans-52\"/>\r\n       </defs>\r\n       <use xlink:href=\"#DejaVuSans-48\"/>\r\n       <use x=\"63.623047\" xlink:href=\"#DejaVuSans-46\"/>\r\n       <use x=\"95.410156\" xlink:href=\"#DejaVuSans-52\"/>\r\n      </g>\r\n     </g>\r\n    </g>\r\n    <g id=\"xtick_4\">\r\n     <g id=\"line2d_4\">\r\n      <g>\r\n       <use style=\"stroke:#000000;stroke-width:0.8;\" x=\"233.288245\" xlink:href=\"#m403d2a5677\" y=\"224.64\"/>\r\n      </g>\r\n     </g>\r\n     <g id=\"text_4\">\r\n      <!-- 0.6 -->\r\n      <g transform=\"translate(225.336682 239.238437)scale(0.1 -0.1)\">\r\n       <defs>\r\n        <path d=\"M 33.015625 40.375 \r\nQ 26.375 40.375 22.484375 35.828125 \r\nQ 18.609375 31.296875 18.609375 23.390625 \r\nQ 18.609375 15.53125 22.484375 10.953125 \r\nQ 26.375 6.390625 33.015625 6.390625 \r\nQ 39.65625 6.390625 43.53125 10.953125 \r\nQ 47.40625 15.53125 47.40625 23.390625 \r\nQ 47.40625 31.296875 43.53125 35.828125 \r\nQ 39.65625 40.375 33.015625 40.375 \r\nz\r\nM 52.59375 71.296875 \r\nL 52.59375 62.3125 \r\nQ 48.875 64.0625 45.09375 64.984375 \r\nQ 41.3125 65.921875 37.59375 65.921875 \r\nQ 27.828125 65.921875 22.671875 59.328125 \r\nQ 17.53125 52.734375 16.796875 39.40625 \r\nQ 19.671875 43.65625 24.015625 45.921875 \r\nQ 28.375 48.1875 33.59375 48.1875 \r\nQ 44.578125 48.1875 50.953125 41.515625 \r\nQ 57.328125 34.859375 57.328125 23.390625 \r\nQ 57.328125 12.15625 50.6875 5.359375 \r\nQ 44.046875 -1.421875 33.015625 -1.421875 \r\nQ 20.359375 -1.421875 13.671875 8.265625 \r\nQ 6.984375 17.96875 6.984375 36.375 \r\nQ 6.984375 53.65625 15.1875 63.9375 \r\nQ 23.390625 74.21875 37.203125 74.21875 \r\nQ 40.921875 74.21875 44.703125 73.484375 \r\nQ 48.484375 72.75 52.59375 71.296875 \r\nz\r\n\" id=\"DejaVuSans-54\"/>\r\n       </defs>\r\n       <use xlink:href=\"#DejaVuSans-48\"/>\r\n       <use x=\"63.623047\" xlink:href=\"#DejaVuSans-46\"/>\r\n       <use x=\"95.410156\" xlink:href=\"#DejaVuSans-54\"/>\r\n      </g>\r\n     </g>\r\n    </g>\r\n    <g id=\"xtick_5\">\r\n     <g id=\"line2d_5\">\r\n      <g>\r\n       <use style=\"stroke:#000000;stroke-width:0.8;\" x=\"296.260031\" xlink:href=\"#m403d2a5677\" y=\"224.64\"/>\r\n      </g>\r\n     </g>\r\n     <g id=\"text_5\">\r\n      <!-- 0.8 -->\r\n      <g transform=\"translate(288.308469 239.238437)scale(0.1 -0.1)\">\r\n       <defs>\r\n        <path d=\"M 31.78125 34.625 \r\nQ 24.75 34.625 20.71875 30.859375 \r\nQ 16.703125 27.09375 16.703125 20.515625 \r\nQ 16.703125 13.921875 20.71875 10.15625 \r\nQ 24.75 6.390625 31.78125 6.390625 \r\nQ 38.8125 6.390625 42.859375 10.171875 \r\nQ 46.921875 13.96875 46.921875 20.515625 \r\nQ 46.921875 27.09375 42.890625 30.859375 \r\nQ 38.875 34.625 31.78125 34.625 \r\nz\r\nM 21.921875 38.8125 \r\nQ 15.578125 40.375 12.03125 44.71875 \r\nQ 8.5 49.078125 8.5 55.328125 \r\nQ 8.5 64.0625 14.71875 69.140625 \r\nQ 20.953125 74.21875 31.78125 74.21875 \r\nQ 42.671875 74.21875 48.875 69.140625 \r\nQ 55.078125 64.0625 55.078125 55.328125 \r\nQ 55.078125 49.078125 51.53125 44.71875 \r\nQ 48 40.375 41.703125 38.8125 \r\nQ 48.828125 37.15625 52.796875 32.3125 \r\nQ 56.78125 27.484375 56.78125 20.515625 \r\nQ 56.78125 9.90625 50.3125 4.234375 \r\nQ 43.84375 -1.421875 31.78125 -1.421875 \r\nQ 19.734375 -1.421875 13.25 4.234375 \r\nQ 6.78125 9.90625 6.78125 20.515625 \r\nQ 6.78125 27.484375 10.78125 32.3125 \r\nQ 14.796875 37.15625 21.921875 38.8125 \r\nz\r\nM 18.3125 54.390625 \r\nQ 18.3125 48.734375 21.84375 45.5625 \r\nQ 25.390625 42.390625 31.78125 42.390625 \r\nQ 38.140625 42.390625 41.71875 45.5625 \r\nQ 45.3125 48.734375 45.3125 54.390625 \r\nQ 45.3125 60.0625 41.71875 63.234375 \r\nQ 38.140625 66.40625 31.78125 66.40625 \r\nQ 25.390625 66.40625 21.84375 63.234375 \r\nQ 18.3125 60.0625 18.3125 54.390625 \r\nz\r\n\" id=\"DejaVuSans-56\"/>\r\n       </defs>\r\n       <use xlink:href=\"#DejaVuSans-48\"/>\r\n       <use x=\"63.623047\" xlink:href=\"#DejaVuSans-46\"/>\r\n       <use x=\"95.410156\" xlink:href=\"#DejaVuSans-56\"/>\r\n      </g>\r\n     </g>\r\n    </g>\r\n    <g id=\"xtick_6\">\r\n     <g id=\"line2d_6\">\r\n      <g>\r\n       <use style=\"stroke:#000000;stroke-width:0.8;\" x=\"359.231818\" xlink:href=\"#m403d2a5677\" y=\"224.64\"/>\r\n      </g>\r\n     </g>\r\n     <g id=\"text_6\">\r\n      <!-- 1.0 -->\r\n      <g transform=\"translate(351.280256 239.238437)scale(0.1 -0.1)\">\r\n       <defs>\r\n        <path d=\"M 12.40625 8.296875 \r\nL 28.515625 8.296875 \r\nL 28.515625 63.921875 \r\nL 10.984375 60.40625 \r\nL 10.984375 69.390625 \r\nL 28.421875 72.90625 \r\nL 38.28125 72.90625 \r\nL 38.28125 8.296875 \r\nL 54.390625 8.296875 \r\nL 54.390625 0 \r\nL 12.40625 0 \r\nz\r\n\" id=\"DejaVuSans-49\"/>\r\n       </defs>\r\n       <use xlink:href=\"#DejaVuSans-49\"/>\r\n       <use x=\"63.623047\" xlink:href=\"#DejaVuSans-46\"/>\r\n       <use x=\"95.410156\" xlink:href=\"#DejaVuSans-48\"/>\r\n      </g>\r\n     </g>\r\n    </g>\r\n   </g>\r\n   <g id=\"matplotlib.axis_2\">\r\n    <g id=\"ytick_1\">\r\n     <g id=\"line2d_7\">\r\n      <defs>\r\n       <path d=\"M 0 0 \r\nL -3.5 0 \r\n\" id=\"m55c9893080\" style=\"stroke:#000000;stroke-width:0.8;\"/>\r\n      </defs>\r\n      <g>\r\n       <use style=\"stroke:#000000;stroke-width:0.8;\" x=\"39.65\" xlink:href=\"#m55c9893080\" y=\"224.64\"/>\r\n      </g>\r\n     </g>\r\n     <g id=\"text_7\">\r\n      <!-- 0 -->\r\n      <g transform=\"translate(26.2875 228.439219)scale(0.1 -0.1)\">\r\n       <use xlink:href=\"#DejaVuSans-48\"/>\r\n      </g>\r\n     </g>\r\n    </g>\r\n    <g id=\"ytick_2\">\r\n     <g id=\"line2d_8\">\r\n      <g>\r\n       <use style=\"stroke:#000000;stroke-width:0.8;\" x=\"39.65\" xlink:href=\"#m55c9893080\" y=\"186.076552\"/>\r\n      </g>\r\n     </g>\r\n     <g id=\"text_8\">\r\n      <!-- 500 -->\r\n      <g transform=\"translate(13.5625 189.875771)scale(0.1 -0.1)\">\r\n       <defs>\r\n        <path d=\"M 10.796875 72.90625 \r\nL 49.515625 72.90625 \r\nL 49.515625 64.59375 \r\nL 19.828125 64.59375 \r\nL 19.828125 46.734375 \r\nQ 21.96875 47.46875 24.109375 47.828125 \r\nQ 26.265625 48.1875 28.421875 48.1875 \r\nQ 40.625 48.1875 47.75 41.5 \r\nQ 54.890625 34.8125 54.890625 23.390625 \r\nQ 54.890625 11.625 47.5625 5.09375 \r\nQ 40.234375 -1.421875 26.90625 -1.421875 \r\nQ 22.3125 -1.421875 17.546875 -0.640625 \r\nQ 12.796875 0.140625 7.71875 1.703125 \r\nL 7.71875 11.625 \r\nQ 12.109375 9.234375 16.796875 8.0625 \r\nQ 21.484375 6.890625 26.703125 6.890625 \r\nQ 35.15625 6.890625 40.078125 11.328125 \r\nQ 45.015625 15.765625 45.015625 23.390625 \r\nQ 45.015625 31 40.078125 35.4375 \r\nQ 35.15625 39.890625 26.703125 39.890625 \r\nQ 22.75 39.890625 18.8125 39.015625 \r\nQ 14.890625 38.140625 10.796875 36.28125 \r\nz\r\n\" id=\"DejaVuSans-53\"/>\r\n       </defs>\r\n       <use xlink:href=\"#DejaVuSans-53\"/>\r\n       <use x=\"63.623047\" xlink:href=\"#DejaVuSans-48\"/>\r\n       <use x=\"127.246094\" xlink:href=\"#DejaVuSans-48\"/>\r\n      </g>\r\n     </g>\r\n    </g>\r\n    <g id=\"ytick_3\">\r\n     <g id=\"line2d_9\">\r\n      <g>\r\n       <use style=\"stroke:#000000;stroke-width:0.8;\" x=\"39.65\" xlink:href=\"#m55c9893080\" y=\"147.513105\"/>\r\n      </g>\r\n     </g>\r\n     <g id=\"text_9\">\r\n      <!-- 1000 -->\r\n      <g transform=\"translate(7.2 151.312323)scale(0.1 -0.1)\">\r\n       <use xlink:href=\"#DejaVuSans-49\"/>\r\n       <use x=\"63.623047\" xlink:href=\"#DejaVuSans-48\"/>\r\n       <use x=\"127.246094\" xlink:href=\"#DejaVuSans-48\"/>\r\n       <use x=\"190.869141\" xlink:href=\"#DejaVuSans-48\"/>\r\n      </g>\r\n     </g>\r\n    </g>\r\n    <g id=\"ytick_4\">\r\n     <g id=\"line2d_10\">\r\n      <g>\r\n       <use style=\"stroke:#000000;stroke-width:0.8;\" x=\"39.65\" xlink:href=\"#m55c9893080\" y=\"108.949657\"/>\r\n      </g>\r\n     </g>\r\n     <g id=\"text_10\">\r\n      <!-- 1500 -->\r\n      <g transform=\"translate(7.2 112.748876)scale(0.1 -0.1)\">\r\n       <use xlink:href=\"#DejaVuSans-49\"/>\r\n       <use x=\"63.623047\" xlink:href=\"#DejaVuSans-53\"/>\r\n       <use x=\"127.246094\" xlink:href=\"#DejaVuSans-48\"/>\r\n       <use x=\"190.869141\" xlink:href=\"#DejaVuSans-48\"/>\r\n      </g>\r\n     </g>\r\n    </g>\r\n    <g id=\"ytick_5\">\r\n     <g id=\"line2d_11\">\r\n      <g>\r\n       <use style=\"stroke:#000000;stroke-width:0.8;\" x=\"39.65\" xlink:href=\"#m55c9893080\" y=\"70.386209\"/>\r\n      </g>\r\n     </g>\r\n     <g id=\"text_11\">\r\n      <!-- 2000 -->\r\n      <g transform=\"translate(7.2 74.185428)scale(0.1 -0.1)\">\r\n       <use xlink:href=\"#DejaVuSans-50\"/>\r\n       <use x=\"63.623047\" xlink:href=\"#DejaVuSans-48\"/>\r\n       <use x=\"127.246094\" xlink:href=\"#DejaVuSans-48\"/>\r\n       <use x=\"190.869141\" xlink:href=\"#DejaVuSans-48\"/>\r\n      </g>\r\n     </g>\r\n    </g>\r\n    <g id=\"ytick_6\">\r\n     <g id=\"line2d_12\">\r\n      <g>\r\n       <use style=\"stroke:#000000;stroke-width:0.8;\" x=\"39.65\" xlink:href=\"#m55c9893080\" y=\"31.822761\"/>\r\n      </g>\r\n     </g>\r\n     <g id=\"text_12\">\r\n      <!-- 2500 -->\r\n      <g transform=\"translate(7.2 35.62198)scale(0.1 -0.1)\">\r\n       <use xlink:href=\"#DejaVuSans-50\"/>\r\n       <use x=\"63.623047\" xlink:href=\"#DejaVuSans-53\"/>\r\n       <use x=\"127.246094\" xlink:href=\"#DejaVuSans-48\"/>\r\n       <use x=\"190.869141\" xlink:href=\"#DejaVuSans-48\"/>\r\n      </g>\r\n     </g>\r\n    </g>\r\n   </g>\r\n   <g id=\"patch_13\">\r\n    <path d=\"M 39.65 224.64 \r\nL 39.65 7.2 \r\n\" style=\"fill:none;stroke:#000000;stroke-linecap:square;stroke-linejoin:miter;stroke-width:0.8;\"/>\r\n   </g>\r\n   <g id=\"patch_14\">\r\n    <path d=\"M 374.45 224.64 \r\nL 374.45 7.2 \r\n\" style=\"fill:none;stroke:#000000;stroke-linecap:square;stroke-linejoin:miter;stroke-width:0.8;\"/>\r\n   </g>\r\n   <g id=\"patch_15\">\r\n    <path d=\"M 39.65 224.64 \r\nL 374.45 224.64 \r\n\" style=\"fill:none;stroke:#000000;stroke-linecap:square;stroke-linejoin:miter;stroke-width:0.8;\"/>\r\n   </g>\r\n   <g id=\"patch_16\">\r\n    <path d=\"M 39.65 7.2 \r\nL 374.45 7.2 \r\n\" style=\"fill:none;stroke:#000000;stroke-linecap:square;stroke-linejoin:miter;stroke-width:0.8;\"/>\r\n   </g>\r\n  </g>\r\n </g>\r\n <defs>\r\n  <clipPath id=\"p3d042f77e6\">\r\n   <rect height=\"217.44\" width=\"334.8\" x=\"39.65\" y=\"7.2\"/>\r\n  </clipPath>\r\n </defs>\r\n</svg>\r\n",
      "image/png": "[encoded data removed]"
     },
     "metadata": {
      "needs_background": "light"
     }
    }
   ],
   "source": [
    "df__2['rouge'].hist(grid=False)"
   ]
  },
  {
   "cell_type": "code",
   "execution_count": 11,
   "metadata": {},
   "outputs": [
    {
     "output_type": "execute_result",
     "data": {
      "text/plain": [
       "0.48028944068783"
      ]
     },
     "metadata": {},
     "execution_count": 11
    }
   ],
   "source": [
    "df__2['rouge'].mean()"
   ]
  },
  {
   "cell_type": "code",
   "execution_count": 30,
   "metadata": {},
   "outputs": [],
   "source": [
    "with open('df_summ_rouge_12000_noblank_2_nx.pickle', 'wb') as handle:\n",
    "    pickle.dump(df__2, handle)"
   ]
  },
  {
   "cell_type": "code",
   "execution_count": 16,
   "metadata": {},
   "outputs": [
    {
     "output_type": "execute_result",
     "data": {
      "text/plain": [
       "                                                 article  \\\n",
       "4554   Srinagar, India (CNN) -- A soldier at an army ...   \n",
       "11191  (CNN Student News) -- Students will learn abou...   \n",
       "2958   (CNN) -- A 15-year-old student shot and killed...   \n",
       "10631  (CNN)A volcano in Russia led to the cancellati...   \n",
       "1373   (CNN) -- Three crew members aboard a US Navy h...   \n",
       "5061   (CNN) -- Open Road Films will release its Stev...   \n",
       "10116  (CNN) -- A sex tape allegedly showing former S...   \n",
       "7947   New Delhi (CNN) -- Ending years of speculation...   \n",
       "4074   (CNN) -- Singer Marc Anthony filed divorce pap...   \n",
       "8958     -- Hayden Panettiere picks up the mic droppe...   \n",
       "9297   New Delhi, India (CNN)A passenger train oversh...   \n",
       "11322  (CNN)Magma and lava from a Japanese volcano is...   \n",
       "11725  (CNN)Justin Timberlake and Jessica Biel, welco...   \n",
       "3196   (CNN) -- A lightning strike from a fast-moving...   \n",
       "4314   (CNN) -- A new permanent span over Washington ...   \n",
       "4635   (CNN) -- Pirates have hijacked a Norwegian tan...   \n",
       "198    Beirut, Lebanon (CNN) -- A member of the Shiit...   \n",
       "197    JERUSALEM (CNN) -- A car bomb killed one of Is...   \n",
       "69     (CNN) -- A memorial cruise is scheduled to set...   \n",
       "7916   (CNN) -- Damon Harris, a former member of the ...   \n",
       "1059   BAGHDAD, Iraq (CNN) -- Iraqi forces detained t...   \n",
       "8662   (The Hollywood Reporter)Ben Powers, who played...   \n",
       "3321   (CNN) -- Formal charges are expected against s...   \n",
       "752    (Mashable) -- HP has announced a major new ini...   \n",
       "1582   New York (CNN) -- A mother abducted her eight ...   \n",
       "9518   (CNN) -- A new service from Twitter allows gov...   \n",
       "3679   Its not going to be Batman versus Superman ver...   \n",
       "8394   (CNN) -- A man stabbed four people aboard an A...   \n",
       "9092   (CNN) -- A droid rolling along in the desert. ...   \n",
       "8561   (CNN)Gunshots were fired at rapper Lil Waynes ...   \n",
       "6519     -- And baby makes three!  \"Bones\" star Emily...   \n",
       "2089   (CNN) -- The NCAA says it has contacted the FB...   \n",
       "6819   (CNN)Actor Jon Hamm, who plays hard-drinking D...   \n",
       "1943   (CNN) -- A Palestinian diplomat and his wife w...   \n",
       "6067     -- The bride has spoken!  Lisa Ann Russell a...   \n",
       "2504     -- For the caveman family of \"The Croods,\" t...   \n",
       "9376   (CNN)Still searching for the perfect gift for ...   \n",
       "6540   Kabul, Afghanistan (CNN) -- Pakistani and Afgh...   \n",
       "5871   (CNN Student News) -- Students will learn abou...   \n",
       "4526   (CNN) -- Actor Anthony Mackie was arrested ear...   \n",
       "3746   NEW YORK (CNN) -- Legendary football coach and...   \n",
       "2780   YANGON, Myanmar (CNN) -- Courts in Myanmar hav...   \n",
       "545    (CNN) -- The defense for Charles Taylor is exp...   \n",
       "11462    -- As if you couldnt tell by that massive ro...   \n",
       "8943   (CNN) -- At least six people were killed and s...   \n",
       "7685   (CNN) -- Actress Halle Berry and her fiance, F...   \n",
       "8200   (CNN) -- Irish low-cost airline Ryanair posted...   \n",
       "7235     -- TNTs \"Dallas\" has snagged itself a Six Mi...   \n",
       "11722  (CNN)  -- Officials have uncovered a common gr...   \n",
       "5102   (CNN) -- Sony announced Sunday that parts of t...   \n",
       "\n",
       "                                              summary_gt  \\\n",
       "4554   A soldier opens fire with an automatic rifle i...   \n",
       "11191  Students will learn about political parties in...   \n",
       "2958   A school shooting happens in Viljandi, Estonia...   \n",
       "10631  Volcano shoots ash into the atmosphere some 30...   \n",
       "1373   Three crew members were found in stable condit...   \n",
       "5061   The Steve Jobs biopic will be released August ...   \n",
       "10116  Tape was the subject of a February hearing at ...   \n",
       "7947   Tata Sons is an $80 billion conglomerate  .   ...   \n",
       "4074   Marc Anthony files divorce papers in Los Angel...   \n",
       "8958   Red teams up with her Granny to look into the ...   \n",
       "9297   A passenger train derails about 35 kilometers ...   \n",
       "11322  An eruption on the tiny volcanic island of Nis...   \n",
       "11725  Timberlake and Biel welcome son Silas Randall ...   \n",
       "3196   One soldier is in critical condition, Fort Car...   \n",
       "4314   Temporary span went up within a few weeks of t...   \n",
       "4635   Pirates hijack Norwegian tanker UBT Ocean off ...   \n",
       "198    Hezbollah member escaped from Egyptian prison ...   \n",
       "197    A car bomb has killed one of Israels most prom...   \n",
       "69     The Titanic Memorial Cruise is to set sail in ...   \n",
       "7916   Damon Harris, a former member of The Temptatio...   \n",
       "1059   Iraqi forces detain the suspected leader of a ...   \n",
       "8662   Ben Powers joined the cast of \"Good Times\" for...   \n",
       "3321   Seven Royal Marines are under arrest on suspic...   \n",
       "752    The idea builds off the Google Cloud Print ann...   \n",
       "1582   Police: Shanel Nadal, 28, flees with her seven...   \n",
       "9518   Company announces Twitter Alerts service  .   ...   \n",
       "3679   Both movies were set for May 2016  .   \"Batman...   \n",
       "8394   The train was on its way from Chicago  .   Rep...   \n",
       "9092   The first trailer for \"Star Wars: Episode VII ...   \n",
       "8561   Rapper Lil Wayne not injured after shots fired...   \n",
       "6519   Emily Deschanel and David Hornsby, welcomed th...   \n",
       "2089   The NCAA says it contacted the FBI about Aubur...   \n",
       "6819   Report: Actor Jon Hamm of \"Mad Men\" has comple...   \n",
       "1943   Police identified the victims as Jamal al Jama...   \n",
       "6067   This is the second marriage for both Jeff Prob...   \n",
       "2504   DreamWorks Animations \"The Croods\" is getting ...   \n",
       "9376   100-carat emerald-cut diamond is flawless, Sot...   \n",
       "6540   An Afghan border policeman was killed in a cla...   \n",
       "5871   Students will learn about political parties in...   \n",
       "4526   Actor Anthony Mackie is arrested in New York C...   \n",
       "3746   Legendary football coach and broadcaster John ...   \n",
       "2780   Myanmar court jails blogger, poet and dissiden...   \n",
       "545    The former Liberian president was convicted of...   \n",
       "11462  \"I think more is more when it comes to fun acc...   \n",
       "8943   The explosion occurred in a largely Somali nei...   \n",
       "7685   Berry is engaged to French actor Olivier Marti...   \n",
       "8200   Irish low-cost airline Ryanair posts €169 mill...   \n",
       "7235   Lee Majors has booked a two-episode guest spot...   \n",
       "11722  Grave found in Paraguay with bodies believed t...   \n",
       "5102   The PlayStation Network allows users to play g...   \n",
       "\n",
       "                                         summary_gt_list  \\\n",
       "4554   ['A soldier opens fire with an automatic rifle...   \n",
       "11191  ['Students will learn about political parties ...   \n",
       "2958   ['A school shooting happens in Viljandi, Eston...   \n",
       "10631  ['Volcano shoots ash into the atmosphere some ...   \n",
       "1373   ['Three crew members were found in stable cond...   \n",
       "5061   ['The Steve Jobs biopic will be released Augus...   \n",
       "10116  ['Tape was the subject of a February hearing a...   \n",
       "7947   ['Tata Sons is an $80 billion conglomerate', '...   \n",
       "4074   ['Marc Anthony files divorce papers in Los Ang...   \n",
       "8958   ['Red teams up with her Granny to look into th...   \n",
       "9297   ['A passenger train derails about 35 kilometer...   \n",
       "11322  ['An eruption on the tiny volcanic island of N...   \n",
       "11725  ['Timberlake and Biel welcome son Silas Randal...   \n",
       "3196   ['One soldier is in critical condition, Fort C...   \n",
       "4314   ['Temporary span went up within a few weeks of...   \n",
       "4635   ['Pirates hijack Norwegian tanker UBT Ocean of...   \n",
       "198    ['Hezbollah member escaped from Egyptian priso...   \n",
       "197    ['A car bomb has killed one of Israels most pr...   \n",
       "69     ['The Titanic Memorial Cruise is to set sail i...   \n",
       "7916   ['Damon Harris, a former member of The Temptat...   \n",
       "1059   ['Iraqi forces detain the suspected leader of ...   \n",
       "8662   ['Ben Powers joined the cast of \"Good Times\" f...   \n",
       "3321   ['Seven Royal Marines are under arrest on susp...   \n",
       "752    ['The idea builds off the Google Cloud Print a...   \n",
       "1582   ['Police: Shanel Nadal, 28, flees with her sev...   \n",
       "9518   ['Company announces Twitter Alerts service', '...   \n",
       "3679   ['Both movies were set for May 2016', '\"Batman...   \n",
       "8394   ['The train was on its way from Chicago', 'Rep...   \n",
       "9092   ['The first trailer for \"Star Wars: Episode VI...   \n",
       "8561   ['Rapper Lil Wayne not injured after shots fir...   \n",
       "6519   ['Emily Deschanel and David Hornsby, welcomed ...   \n",
       "2089   ['The NCAA says it contacted the FBI about Aub...   \n",
       "6819   ['Report: Actor Jon Hamm of \"Mad Men\" has comp...   \n",
       "1943   ['Police identified the victims as Jamal al Ja...   \n",
       "6067   ['This is the second marriage for both Jeff Pr...   \n",
       "2504   ['DreamWorks Animations \"The Croods\" is gettin...   \n",
       "9376   ['100-carat emerald-cut diamond is flawless, S...   \n",
       "6540   ['An Afghan border policeman was killed in a c...   \n",
       "5871   ['Students will learn about political parties ...   \n",
       "4526   ['Actor Anthony Mackie is arrested in New York...   \n",
       "3746   ['Legendary football coach and broadcaster Joh...   \n",
       "2780   ['Myanmar court jails blogger, poet and dissid...   \n",
       "545    ['The former Liberian president was convicted ...   \n",
       "11462  ['\"I think more is more when it comes to fun a...   \n",
       "8943   ['The explosion occurred in a largely Somali n...   \n",
       "7685   ['Berry is engaged to French actor Olivier Mar...   \n",
       "8200   ['Irish low-cost airline Ryanair posts €169 mi...   \n",
       "7235   ['Lee Majors has booked a two-episode guest sp...   \n",
       "11722  ['Grave found in Paraguay with bodies believed...   \n",
       "5102   ['The PlayStation Network allows users to play...   \n",
       "\n",
       "                                                 summary     rouge  \n",
       "4554   Srinagar , India CNN A soldier at an army camp...  1.000000  \n",
       "11191  CNN Student News Students will learn about pol...  1.000000  \n",
       "2958   CNN A 15 year old student shot and killed a te...  1.000000  \n",
       "10631  CNN A volcano in Russia led to the cancellatio...  1.000000  \n",
       "1373   CNN Three crew members aboard a US Navy helico...  1.000000  \n",
       "5061   CNN Open Road Films will release its Steve Job...  1.000000  \n",
       "10116  CNN A sex tape allegedly showing former Sen. J...  1.000000  \n",
       "7947   New Delhi CNN Ending years of speculation over...  1.000000  \n",
       "4074   CNN Singer Marc Anthony filed divorce papers W...  1.000000  \n",
       "8958   Hayden Panettiere picks up the mic dropped by ...  1.000000  \n",
       "9297   New Delhi , India CNN A passenger train oversh...  1.000000  \n",
       "11322  CNN Magma and lava from a Japanese volcano is ...  1.000000  \n",
       "11725  CNN Justin Timberlake and Jessica Biel , welco...  1.000000  \n",
       "3196   CNN A lightning strike from a fast moving stor...  1.000000  \n",
       "4314   CNN A new permanent span over Washington state...  1.000000  \n",
       "4635   CNN Pirates have hijacked a Norwegian tanker o...  1.000000  \n",
       "198    Beirut , Lebanon CNN A member of the Shiite mi...  1.000000  \n",
       "197    JERUSALEM CNN A car bomb killed one of Israels...  1.000000  \n",
       "69     CNN A memorial cruise is scheduled to set sail...  1.000000  \n",
       "7916   CNN Damon Harris , a former member of the Moto...  1.000000  \n",
       "1059   BAGHDAD , Iraq CNN Iraqi forces detained the s...  1.000000  \n",
       "8662   The Hollywood Reporter Ben Powers , who played...  1.000000  \n",
       "3321   CNN Formal charges are expected against seven ...  1.000000  \n",
       "752    Mashable HP has announced a major new initiati...  1.000000  \n",
       "1582   New York CNN A mother abducted her eight biolo...  1.000000  \n",
       "9518   CNN A new service from Twitter allows governme...  1.000000  \n",
       "3679   Its not going to be Batman versus Superman ver...  1.000000  \n",
       "8394   CNN A man stabbed four people aboard an Amtrak...  1.000000  \n",
       "9092   Those are the images that make up the first lo...  1.000000  \n",
       "8561   CNN Gunshots were fired at rapper Lil Waynes t...  1.000000  \n",
       "6519   And baby makes three ! Bones '' star Emily Des...  1.000000  \n",
       "2089   CNN The NCAA says it has contacted the FBI aft...  1.000000  \n",
       "6819   CNN Actor Jon Hamm , who plays hard drinking D...  1.000000  \n",
       "1943   CNN A Palestinian diplomat and his wife were i...  1.000000  \n",
       "6067   Lisa Ann Russell and Survivor '' host Jeff Pro...  1.000000  \n",
       "2504   For the caveman family of The Croods , '' the ...  1.000000  \n",
       "9376   The xxxx carat , D color meaning it is colorle...  1.000000  \n",
       "6540   Kabul , Afghanistan CNN Pakistani and Afghan f...  1.000000  \n",
       "5871   CNN Student News Students will learn about pol...  1.000000  \n",
       "4526   CNN Actor Anthony Mackie was arrested early Sa...  1.000000  \n",
       "3746   NEW YORK CNN Legendary football coach and broa...  1.000000  \n",
       "2780   YANGON , Myanmar CNN Courts in Myanmar have se...  1.000000  \n",
       "545    CNN The defense for Charles Taylor is expected...  1.000000  \n",
       "11462  I think more is more when it comes to fun acce...  1.000000  \n",
       "8943   CNN At least six people were killed and some 1...  1.000000  \n",
       "7685   CNN Actress Halle Berry and her fiance , Frenc...  1.000000  \n",
       "8200   CNN Irish low cost airline Ryanair posted a 16...  0.966667  \n",
       "7235   TNTs Dallas '' has snagged itself a Six Millio...  0.964286  \n",
       "11722  CNN Officials have uncovered a common grave in...  0.962963  \n",
       "5102   CNN Sony announced Sunday that parts of the Pl...  0.961538  "
      ],
      "text/html": "<div>\n<style scoped>\n    .dataframe tbody tr th:only-of-type {\n        vertical-align: middle;\n    }\n\n    .dataframe tbody tr th {\n        vertical-align: top;\n    }\n\n    .dataframe thead th {\n        text-align: right;\n    }\n</style>\n<table border=\"1\" class=\"dataframe\">\n  <thead>\n    <tr style=\"text-align: right;\">\n      <th></th>\n      <th>article</th>\n      <th>summary_gt</th>\n      <th>summary_gt_list</th>\n      <th>summary</th>\n      <th>rouge</th>\n    </tr>\n  </thead>\n  <tbody>\n    <tr>\n      <th>4554</th>\n      <td>Srinagar, India (CNN) -- A soldier at an army ...</td>\n      <td>A soldier opens fire with an automatic rifle i...</td>\n      <td>['A soldier opens fire with an automatic rifle...</td>\n      <td>Srinagar , India CNN A soldier at an army camp...</td>\n      <td>1.000000</td>\n    </tr>\n    <tr>\n      <th>11191</th>\n      <td>(CNN Student News) -- Students will learn abou...</td>\n      <td>Students will learn about political parties in...</td>\n      <td>['Students will learn about political parties ...</td>\n      <td>CNN Student News Students will learn about pol...</td>\n      <td>1.000000</td>\n    </tr>\n    <tr>\n      <th>2958</th>\n      <td>(CNN) -- A 15-year-old student shot and killed...</td>\n      <td>A school shooting happens in Viljandi, Estonia...</td>\n      <td>['A school shooting happens in Viljandi, Eston...</td>\n      <td>CNN A 15 year old student shot and killed a te...</td>\n      <td>1.000000</td>\n    </tr>\n    <tr>\n      <th>10631</th>\n      <td>(CNN)A volcano in Russia led to the cancellati...</td>\n      <td>Volcano shoots ash into the atmosphere some 30...</td>\n      <td>['Volcano shoots ash into the atmosphere some ...</td>\n      <td>CNN A volcano in Russia led to the cancellatio...</td>\n      <td>1.000000</td>\n    </tr>\n    <tr>\n      <th>1373</th>\n      <td>(CNN) -- Three crew members aboard a US Navy h...</td>\n      <td>Three crew members were found in stable condit...</td>\n      <td>['Three crew members were found in stable cond...</td>\n      <td>CNN Three crew members aboard a US Navy helico...</td>\n      <td>1.000000</td>\n    </tr>\n    <tr>\n      <th>5061</th>\n      <td>(CNN) -- Open Road Films will release its Stev...</td>\n      <td>The Steve Jobs biopic will be released August ...</td>\n      <td>['The Steve Jobs biopic will be released Augus...</td>\n      <td>CNN Open Road Films will release its Steve Job...</td>\n      <td>1.000000</td>\n    </tr>\n    <tr>\n      <th>10116</th>\n      <td>(CNN) -- A sex tape allegedly showing former S...</td>\n      <td>Tape was the subject of a February hearing at ...</td>\n      <td>['Tape was the subject of a February hearing a...</td>\n      <td>CNN A sex tape allegedly showing former Sen. J...</td>\n      <td>1.000000</td>\n    </tr>\n    <tr>\n      <th>7947</th>\n      <td>New Delhi (CNN) -- Ending years of speculation...</td>\n      <td>Tata Sons is an $80 billion conglomerate  .   ...</td>\n      <td>['Tata Sons is an $80 billion conglomerate', '...</td>\n      <td>New Delhi CNN Ending years of speculation over...</td>\n      <td>1.000000</td>\n    </tr>\n    <tr>\n      <th>4074</th>\n      <td>(CNN) -- Singer Marc Anthony filed divorce pap...</td>\n      <td>Marc Anthony files divorce papers in Los Angel...</td>\n      <td>['Marc Anthony files divorce papers in Los Ang...</td>\n      <td>CNN Singer Marc Anthony filed divorce papers W...</td>\n      <td>1.000000</td>\n    </tr>\n    <tr>\n      <th>8958</th>\n      <td>-- Hayden Panettiere picks up the mic droppe...</td>\n      <td>Red teams up with her Granny to look into the ...</td>\n      <td>['Red teams up with her Granny to look into th...</td>\n      <td>Hayden Panettiere picks up the mic dropped by ...</td>\n      <td>1.000000</td>\n    </tr>\n    <tr>\n      <th>9297</th>\n      <td>New Delhi, India (CNN)A passenger train oversh...</td>\n      <td>A passenger train derails about 35 kilometers ...</td>\n      <td>['A passenger train derails about 35 kilometer...</td>\n      <td>New Delhi , India CNN A passenger train oversh...</td>\n      <td>1.000000</td>\n    </tr>\n    <tr>\n      <th>11322</th>\n      <td>(CNN)Magma and lava from a Japanese volcano is...</td>\n      <td>An eruption on the tiny volcanic island of Nis...</td>\n      <td>['An eruption on the tiny volcanic island of N...</td>\n      <td>CNN Magma and lava from a Japanese volcano is ...</td>\n      <td>1.000000</td>\n    </tr>\n    <tr>\n      <th>11725</th>\n      <td>(CNN)Justin Timberlake and Jessica Biel, welco...</td>\n      <td>Timberlake and Biel welcome son Silas Randall ...</td>\n      <td>['Timberlake and Biel welcome son Silas Randal...</td>\n      <td>CNN Justin Timberlake and Jessica Biel , welco...</td>\n      <td>1.000000</td>\n    </tr>\n    <tr>\n      <th>3196</th>\n      <td>(CNN) -- A lightning strike from a fast-moving...</td>\n      <td>One soldier is in critical condition, Fort Car...</td>\n      <td>['One soldier is in critical condition, Fort C...</td>\n      <td>CNN A lightning strike from a fast moving stor...</td>\n      <td>1.000000</td>\n    </tr>\n    <tr>\n      <th>4314</th>\n      <td>(CNN) -- A new permanent span over Washington ...</td>\n      <td>Temporary span went up within a few weeks of t...</td>\n      <td>['Temporary span went up within a few weeks of...</td>\n      <td>CNN A new permanent span over Washington state...</td>\n      <td>1.000000</td>\n    </tr>\n    <tr>\n      <th>4635</th>\n      <td>(CNN) -- Pirates have hijacked a Norwegian tan...</td>\n      <td>Pirates hijack Norwegian tanker UBT Ocean off ...</td>\n      <td>['Pirates hijack Norwegian tanker UBT Ocean of...</td>\n      <td>CNN Pirates have hijacked a Norwegian tanker o...</td>\n      <td>1.000000</td>\n    </tr>\n    <tr>\n      <th>198</th>\n      <td>Beirut, Lebanon (CNN) -- A member of the Shiit...</td>\n      <td>Hezbollah member escaped from Egyptian prison ...</td>\n      <td>['Hezbollah member escaped from Egyptian priso...</td>\n      <td>Beirut , Lebanon CNN A member of the Shiite mi...</td>\n      <td>1.000000</td>\n    </tr>\n    <tr>\n      <th>197</th>\n      <td>JERUSALEM (CNN) -- A car bomb killed one of Is...</td>\n      <td>A car bomb has killed one of Israels most prom...</td>\n      <td>['A car bomb has killed one of Israels most pr...</td>\n      <td>JERUSALEM CNN A car bomb killed one of Israels...</td>\n      <td>1.000000</td>\n    </tr>\n    <tr>\n      <th>69</th>\n      <td>(CNN) -- A memorial cruise is scheduled to set...</td>\n      <td>The Titanic Memorial Cruise is to set sail in ...</td>\n      <td>['The Titanic Memorial Cruise is to set sail i...</td>\n      <td>CNN A memorial cruise is scheduled to set sail...</td>\n      <td>1.000000</td>\n    </tr>\n    <tr>\n      <th>7916</th>\n      <td>(CNN) -- Damon Harris, a former member of the ...</td>\n      <td>Damon Harris, a former member of The Temptatio...</td>\n      <td>['Damon Harris, a former member of The Temptat...</td>\n      <td>CNN Damon Harris , a former member of the Moto...</td>\n      <td>1.000000</td>\n    </tr>\n    <tr>\n      <th>1059</th>\n      <td>BAGHDAD, Iraq (CNN) -- Iraqi forces detained t...</td>\n      <td>Iraqi forces detain the suspected leader of a ...</td>\n      <td>['Iraqi forces detain the suspected leader of ...</td>\n      <td>BAGHDAD , Iraq CNN Iraqi forces detained the s...</td>\n      <td>1.000000</td>\n    </tr>\n    <tr>\n      <th>8662</th>\n      <td>(The Hollywood Reporter)Ben Powers, who played...</td>\n      <td>Ben Powers joined the cast of \"Good Times\" for...</td>\n      <td>['Ben Powers joined the cast of \"Good Times\" f...</td>\n      <td>The Hollywood Reporter Ben Powers , who played...</td>\n      <td>1.000000</td>\n    </tr>\n    <tr>\n      <th>3321</th>\n      <td>(CNN) -- Formal charges are expected against s...</td>\n      <td>Seven Royal Marines are under arrest on suspic...</td>\n      <td>['Seven Royal Marines are under arrest on susp...</td>\n      <td>CNN Formal charges are expected against seven ...</td>\n      <td>1.000000</td>\n    </tr>\n    <tr>\n      <th>752</th>\n      <td>(Mashable) -- HP has announced a major new ini...</td>\n      <td>The idea builds off the Google Cloud Print ann...</td>\n      <td>['The idea builds off the Google Cloud Print a...</td>\n      <td>Mashable HP has announced a major new initiati...</td>\n      <td>1.000000</td>\n    </tr>\n    <tr>\n      <th>1582</th>\n      <td>New York (CNN) -- A mother abducted her eight ...</td>\n      <td>Police: Shanel Nadal, 28, flees with her seven...</td>\n      <td>['Police: Shanel Nadal, 28, flees with her sev...</td>\n      <td>New York CNN A mother abducted her eight biolo...</td>\n      <td>1.000000</td>\n    </tr>\n    <tr>\n      <th>9518</th>\n      <td>(CNN) -- A new service from Twitter allows gov...</td>\n      <td>Company announces Twitter Alerts service  .   ...</td>\n      <td>['Company announces Twitter Alerts service', '...</td>\n      <td>CNN A new service from Twitter allows governme...</td>\n      <td>1.000000</td>\n    </tr>\n    <tr>\n      <th>3679</th>\n      <td>Its not going to be Batman versus Superman ver...</td>\n      <td>Both movies were set for May 2016  .   \"Batman...</td>\n      <td>['Both movies were set for May 2016', '\"Batman...</td>\n      <td>Its not going to be Batman versus Superman ver...</td>\n      <td>1.000000</td>\n    </tr>\n    <tr>\n      <th>8394</th>\n      <td>(CNN) -- A man stabbed four people aboard an A...</td>\n      <td>The train was on its way from Chicago  .   Rep...</td>\n      <td>['The train was on its way from Chicago', 'Rep...</td>\n      <td>CNN A man stabbed four people aboard an Amtrak...</td>\n      <td>1.000000</td>\n    </tr>\n    <tr>\n      <th>9092</th>\n      <td>(CNN) -- A droid rolling along in the desert. ...</td>\n      <td>The first trailer for \"Star Wars: Episode VII ...</td>\n      <td>['The first trailer for \"Star Wars: Episode VI...</td>\n      <td>Those are the images that make up the first lo...</td>\n      <td>1.000000</td>\n    </tr>\n    <tr>\n      <th>8561</th>\n      <td>(CNN)Gunshots were fired at rapper Lil Waynes ...</td>\n      <td>Rapper Lil Wayne not injured after shots fired...</td>\n      <td>['Rapper Lil Wayne not injured after shots fir...</td>\n      <td>CNN Gunshots were fired at rapper Lil Waynes t...</td>\n      <td>1.000000</td>\n    </tr>\n    <tr>\n      <th>6519</th>\n      <td>-- And baby makes three!  \"Bones\" star Emily...</td>\n      <td>Emily Deschanel and David Hornsby, welcomed th...</td>\n      <td>['Emily Deschanel and David Hornsby, welcomed ...</td>\n      <td>And baby makes three ! Bones '' star Emily Des...</td>\n      <td>1.000000</td>\n    </tr>\n    <tr>\n      <th>2089</th>\n      <td>(CNN) -- The NCAA says it has contacted the FB...</td>\n      <td>The NCAA says it contacted the FBI about Aubur...</td>\n      <td>['The NCAA says it contacted the FBI about Aub...</td>\n      <td>CNN The NCAA says it has contacted the FBI aft...</td>\n      <td>1.000000</td>\n    </tr>\n    <tr>\n      <th>6819</th>\n      <td>(CNN)Actor Jon Hamm, who plays hard-drinking D...</td>\n      <td>Report: Actor Jon Hamm of \"Mad Men\" has comple...</td>\n      <td>['Report: Actor Jon Hamm of \"Mad Men\" has comp...</td>\n      <td>CNN Actor Jon Hamm , who plays hard drinking D...</td>\n      <td>1.000000</td>\n    </tr>\n    <tr>\n      <th>1943</th>\n      <td>(CNN) -- A Palestinian diplomat and his wife w...</td>\n      <td>Police identified the victims as Jamal al Jama...</td>\n      <td>['Police identified the victims as Jamal al Ja...</td>\n      <td>CNN A Palestinian diplomat and his wife were i...</td>\n      <td>1.000000</td>\n    </tr>\n    <tr>\n      <th>6067</th>\n      <td>-- The bride has spoken!  Lisa Ann Russell a...</td>\n      <td>This is the second marriage for both Jeff Prob...</td>\n      <td>['This is the second marriage for both Jeff Pr...</td>\n      <td>Lisa Ann Russell and Survivor '' host Jeff Pro...</td>\n      <td>1.000000</td>\n    </tr>\n    <tr>\n      <th>2504</th>\n      <td>-- For the caveman family of \"The Croods,\" t...</td>\n      <td>DreamWorks Animations \"The Croods\" is getting ...</td>\n      <td>['DreamWorks Animations \"The Croods\" is gettin...</td>\n      <td>For the caveman family of The Croods , '' the ...</td>\n      <td>1.000000</td>\n    </tr>\n    <tr>\n      <th>9376</th>\n      <td>(CNN)Still searching for the perfect gift for ...</td>\n      <td>100-carat emerald-cut diamond is flawless, Sot...</td>\n      <td>['100-carat emerald-cut diamond is flawless, S...</td>\n      <td>The xxxx carat , D color meaning it is colorle...</td>\n      <td>1.000000</td>\n    </tr>\n    <tr>\n      <th>6540</th>\n      <td>Kabul, Afghanistan (CNN) -- Pakistani and Afgh...</td>\n      <td>An Afghan border policeman was killed in a cla...</td>\n      <td>['An Afghan border policeman was killed in a c...</td>\n      <td>Kabul , Afghanistan CNN Pakistani and Afghan f...</td>\n      <td>1.000000</td>\n    </tr>\n    <tr>\n      <th>5871</th>\n      <td>(CNN Student News) -- Students will learn abou...</td>\n      <td>Students will learn about political parties in...</td>\n      <td>['Students will learn about political parties ...</td>\n      <td>CNN Student News Students will learn about pol...</td>\n      <td>1.000000</td>\n    </tr>\n    <tr>\n      <th>4526</th>\n      <td>(CNN) -- Actor Anthony Mackie was arrested ear...</td>\n      <td>Actor Anthony Mackie is arrested in New York C...</td>\n      <td>['Actor Anthony Mackie is arrested in New York...</td>\n      <td>CNN Actor Anthony Mackie was arrested early Sa...</td>\n      <td>1.000000</td>\n    </tr>\n    <tr>\n      <th>3746</th>\n      <td>NEW YORK (CNN) -- Legendary football coach and...</td>\n      <td>Legendary football coach and broadcaster John ...</td>\n      <td>['Legendary football coach and broadcaster Joh...</td>\n      <td>NEW YORK CNN Legendary football coach and broa...</td>\n      <td>1.000000</td>\n    </tr>\n    <tr>\n      <th>2780</th>\n      <td>YANGON, Myanmar (CNN) -- Courts in Myanmar hav...</td>\n      <td>Myanmar court jails blogger, poet and dissiden...</td>\n      <td>['Myanmar court jails blogger, poet and dissid...</td>\n      <td>YANGON , Myanmar CNN Courts in Myanmar have se...</td>\n      <td>1.000000</td>\n    </tr>\n    <tr>\n      <th>545</th>\n      <td>(CNN) -- The defense for Charles Taylor is exp...</td>\n      <td>The former Liberian president was convicted of...</td>\n      <td>['The former Liberian president was convicted ...</td>\n      <td>CNN The defense for Charles Taylor is expected...</td>\n      <td>1.000000</td>\n    </tr>\n    <tr>\n      <th>11462</th>\n      <td>-- As if you couldnt tell by that massive ro...</td>\n      <td>\"I think more is more when it comes to fun acc...</td>\n      <td>['\"I think more is more when it comes to fun a...</td>\n      <td>I think more is more when it comes to fun acce...</td>\n      <td>1.000000</td>\n    </tr>\n    <tr>\n      <th>8943</th>\n      <td>(CNN) -- At least six people were killed and s...</td>\n      <td>The explosion occurred in a largely Somali nei...</td>\n      <td>['The explosion occurred in a largely Somali n...</td>\n      <td>CNN At least six people were killed and some 1...</td>\n      <td>1.000000</td>\n    </tr>\n    <tr>\n      <th>7685</th>\n      <td>(CNN) -- Actress Halle Berry and her fiance, F...</td>\n      <td>Berry is engaged to French actor Olivier Marti...</td>\n      <td>['Berry is engaged to French actor Olivier Mar...</td>\n      <td>CNN Actress Halle Berry and her fiance , Frenc...</td>\n      <td>1.000000</td>\n    </tr>\n    <tr>\n      <th>8200</th>\n      <td>(CNN) -- Irish low-cost airline Ryanair posted...</td>\n      <td>Irish low-cost airline Ryanair posts €169 mill...</td>\n      <td>['Irish low-cost airline Ryanair posts €169 mi...</td>\n      <td>CNN Irish low cost airline Ryanair posted a 16...</td>\n      <td>0.966667</td>\n    </tr>\n    <tr>\n      <th>7235</th>\n      <td>-- TNTs \"Dallas\" has snagged itself a Six Mi...</td>\n      <td>Lee Majors has booked a two-episode guest spot...</td>\n      <td>['Lee Majors has booked a two-episode guest sp...</td>\n      <td>TNTs Dallas '' has snagged itself a Six Millio...</td>\n      <td>0.964286</td>\n    </tr>\n    <tr>\n      <th>11722</th>\n      <td>(CNN)  -- Officials have uncovered a common gr...</td>\n      <td>Grave found in Paraguay with bodies believed t...</td>\n      <td>['Grave found in Paraguay with bodies believed...</td>\n      <td>CNN Officials have uncovered a common grave in...</td>\n      <td>0.962963</td>\n    </tr>\n    <tr>\n      <th>5102</th>\n      <td>(CNN) -- Sony announced Sunday that parts of t...</td>\n      <td>The PlayStation Network allows users to play g...</td>\n      <td>['The PlayStation Network allows users to play...</td>\n      <td>CNN Sony announced Sunday that parts of the Pl...</td>\n      <td>0.961538</td>\n    </tr>\n  </tbody>\n</table>\n</div>"
     },
     "metadata": {},
     "execution_count": 16
    }
   ],
   "source": [
    "sorted_df__desc = df__2.sort_values(by=['rouge'], ascending=False).head(50)\n",
    "sorted_df__desc"
   ]
  },
  {
   "source": [],
   "cell_type": "markdown",
   "metadata": {}
  }
 ]
}